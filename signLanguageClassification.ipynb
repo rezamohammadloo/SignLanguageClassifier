{
  "metadata": {
    "kernelspec": {
      "language": "python",
      "display_name": "Python 3",
      "name": "python3"
    },
    "language_info": {
      "name": "python",
      "version": "3.10.13",
      "mimetype": "text/x-python",
      "codemirror_mode": {
        "name": "ipython",
        "version": 3
      },
      "pygments_lexer": "ipython3",
      "nbconvert_exporter": "python",
      "file_extension": ".py"
    },
    "kaggle": {
      "accelerator": "none",
      "dataSources": [
        {
          "sourceId": 5337,
          "sourceType": "datasetVersion",
          "datasetId": 3258
        }
      ],
      "dockerImageVersionId": 30646,
      "isInternetEnabled": true,
      "language": "python",
      "sourceType": "notebook",
      "isGpuEnabled": false
    },
    "colab": {
      "name": "signLanguageClassification",
      "provenance": [],
      "include_colab_link": true
    }
  },
  "nbformat_minor": 0,
  "nbformat": 4,
  "cells": [
    {
      "cell_type": "markdown",
      "metadata": {
        "id": "view-in-github",
        "colab_type": "text"
      },
      "source": [
        "<a href=\"https://colab.research.google.com/github/rezamohammadloo/SignLanguageClassifier/blob/main/signLanguageClassification.ipynb\" target=\"_parent\"><img src=\"https://colab.research.google.com/assets/colab-badge.svg\" alt=\"Open In Colab\"/></a>"
      ]
    },
    {
      "source": [
        "\n",
        "# IMPORTANT: RUN THIS CELL IN ORDER TO IMPORT YOUR KAGGLE DATA SOURCES\n",
        "# TO THE CORRECT LOCATION (/kaggle/input) IN YOUR NOTEBOOK,\n",
        "# THEN FEEL FREE TO DELETE THIS CELL.\n",
        "# NOTE: THIS NOTEBOOK ENVIRONMENT DIFFERS FROM KAGGLE'S PYTHON\n",
        "# ENVIRONMENT SO THERE MAY BE MISSING LIBRARIES USED BY YOUR\n",
        "# NOTEBOOK.\n",
        "\n",
        "import os\n",
        "import sys\n",
        "from tempfile import NamedTemporaryFile\n",
        "from urllib.request import urlopen\n",
        "from urllib.parse import unquote, urlparse\n",
        "from urllib.error import HTTPError\n",
        "from zipfile import ZipFile\n",
        "import tarfile\n",
        "import shutil\n",
        "\n",
        "CHUNK_SIZE = 40960\n",
        "DATA_SOURCE_MAPPING = 'sign-language-mnist:https%3A%2F%2Fstorage.googleapis.com%2Fkaggle-data-sets%2F3258%2F5337%2Fbundle%2Farchive.zip%3FX-Goog-Algorithm%3DGOOG4-RSA-SHA256%26X-Goog-Credential%3Dgcp-kaggle-com%2540kaggle-161607.iam.gserviceaccount.com%252F20240206%252Fauto%252Fstorage%252Fgoog4_request%26X-Goog-Date%3D20240206T104333Z%26X-Goog-Expires%3D259200%26X-Goog-SignedHeaders%3Dhost%26X-Goog-Signature%3D86dcf7e3398773e8ac65dcb00e28a6bdb2fa50e3694f66bbe2c0628e490869be9335549d71c72fe957319b895d60fd5df22acda83e981a3e7e54b7b93892a5db006912f3bf13ff1f14c6cd0dc0766fe7411cb12e66aca01e9a3af61b36b8ccf857cc975a92c06193873359a4bf91f4b3461d503e7638fdcd9e5cea705702ab49635e05fdda7a6997587f0531cd1cc49b502b935b43b9f6fdc3377425bd8ef10dd2f63990529af5764e302ee687d61af2ae155f6cf97ca13478c5eee61a1242d951b53980ec7afd15a79c07b614b20f38a6908e36403d52c95bec70500bc8145e431ddc014662b6d73bb03319aab113b83ef45a2123cd685e6b77a39701007deb'\n",
        "\n",
        "KAGGLE_INPUT_PATH='/kaggle/input'\n",
        "KAGGLE_WORKING_PATH='/kaggle/working'\n",
        "KAGGLE_SYMLINK='kaggle'\n",
        "\n",
        "!umount /kaggle/input/ 2> /dev/null\n",
        "shutil.rmtree('/kaggle/input', ignore_errors=True)\n",
        "os.makedirs(KAGGLE_INPUT_PATH, 0o777, exist_ok=True)\n",
        "os.makedirs(KAGGLE_WORKING_PATH, 0o777, exist_ok=True)\n",
        "\n",
        "try:\n",
        "  os.symlink(KAGGLE_INPUT_PATH, os.path.join(\"..\", 'input'), target_is_directory=True)\n",
        "except FileExistsError:\n",
        "  pass\n",
        "try:\n",
        "  os.symlink(KAGGLE_WORKING_PATH, os.path.join(\"..\", 'working'), target_is_directory=True)\n",
        "except FileExistsError:\n",
        "  pass\n",
        "\n",
        "for data_source_mapping in DATA_SOURCE_MAPPING.split(','):\n",
        "    directory, download_url_encoded = data_source_mapping.split(':')\n",
        "    download_url = unquote(download_url_encoded)\n",
        "    filename = urlparse(download_url).path\n",
        "    destination_path = os.path.join(KAGGLE_INPUT_PATH, directory)\n",
        "    try:\n",
        "        with urlopen(download_url) as fileres, NamedTemporaryFile() as tfile:\n",
        "            total_length = fileres.headers['content-length']\n",
        "            print(f'Downloading {directory}, {total_length} bytes compressed')\n",
        "            dl = 0\n",
        "            data = fileres.read(CHUNK_SIZE)\n",
        "            while len(data) > 0:\n",
        "                dl += len(data)\n",
        "                tfile.write(data)\n",
        "                done = int(50 * dl / int(total_length))\n",
        "                sys.stdout.write(f\"\\r[{'=' * done}{' ' * (50-done)}] {dl} bytes downloaded\")\n",
        "                sys.stdout.flush()\n",
        "                data = fileres.read(CHUNK_SIZE)\n",
        "            if filename.endswith('.zip'):\n",
        "              with ZipFile(tfile) as zfile:\n",
        "                zfile.extractall(destination_path)\n",
        "            else:\n",
        "              with tarfile.open(tfile.name) as tarfile:\n",
        "                tarfile.extractall(destination_path)\n",
        "            print(f'\\nDownloaded and uncompressed: {directory}')\n",
        "    except HTTPError as e:\n",
        "        print(f'Failed to load (likely expired) {download_url} to path {destination_path}')\n",
        "        continue\n",
        "    except OSError as e:\n",
        "        print(f'Failed to load {download_url} to path {destination_path}')\n",
        "        continue\n",
        "\n",
        "print('Data source import complete.')\n"
      ],
      "metadata": {
        "id": "D2hbmgjQBDWZ"
      },
      "cell_type": "code",
      "outputs": [],
      "execution_count": null
    },
    {
      "cell_type": "markdown",
      "source": [
        "hello there, here we are going to creat a cnn to classify Sign Language.\n",
        "![/kaggle/input/sign-language-mnist/amer_sign2.png](http://)"
      ],
      "metadata": {
        "id": "JnwuWKAmBDWc"
      }
    },
    {
      "cell_type": "code",
      "source": [
        "import numpy as np\n",
        "import pandas as pd\n",
        "import tensorflow as tf\n",
        "import csv\n",
        "from tensorflow.keras.preprocessing.image import ImageDataGenerator\n",
        "import seaborn as sns\n",
        "import matplotlib.pyplot as plt\n",
        "from keras.optimizers import Adam"
      ],
      "metadata": {
        "_uuid": "8f2839f25d086af736a60e9eeb907d3b93b6e0e5",
        "_cell_guid": "b1076dfc-b9ad-4769-8c92-a6c4dae69d19",
        "execution": {
          "iopub.status.busy": "2024-02-06T09:42:30.551957Z",
          "iopub.execute_input": "2024-02-06T09:42:30.552437Z",
          "iopub.status.idle": "2024-02-06T09:42:30.5587Z",
          "shell.execute_reply.started": "2024-02-06T09:42:30.552401Z",
          "shell.execute_reply": "2024-02-06T09:42:30.557734Z"
        },
        "trusted": true,
        "id": "GGkG8Q-mBDWe"
      },
      "execution_count": null,
      "outputs": []
    },
    {
      "cell_type": "code",
      "source": [
        "train_data = pd.read_csv('/kaggle/input/sign-language-mnist/sign_mnist_train/sign_mnist_train.csv')\n",
        "test_data  = pd.read_csv('/kaggle/input/sign-language-mnist/sign_mnist_test/sign_mnist_test.csv')"
      ],
      "metadata": {
        "execution": {
          "iopub.status.busy": "2024-02-06T09:42:31.175676Z",
          "iopub.execute_input": "2024-02-06T09:42:31.176857Z",
          "iopub.status.idle": "2024-02-06T09:42:34.899605Z",
          "shell.execute_reply.started": "2024-02-06T09:42:31.176802Z",
          "shell.execute_reply": "2024-02-06T09:42:34.898309Z"
        },
        "trusted": true,
        "id": "TMnCNwWFBDWg"
      },
      "execution_count": null,
      "outputs": []
    },
    {
      "cell_type": "code",
      "source": [
        "train_data.head()"
      ],
      "metadata": {
        "execution": {
          "iopub.status.busy": "2024-02-06T09:42:34.901845Z",
          "iopub.execute_input": "2024-02-06T09:42:34.902244Z",
          "iopub.status.idle": "2024-02-06T09:42:34.924812Z",
          "shell.execute_reply.started": "2024-02-06T09:42:34.902211Z",
          "shell.execute_reply": "2024-02-06T09:42:34.923704Z"
        },
        "trusted": true,
        "id": "Ywzq9KlnBDWh"
      },
      "execution_count": null,
      "outputs": []
    },
    {
      "cell_type": "code",
      "source": [
        "print(\"number of classes:\", len(train_data['label'].unique()))"
      ],
      "metadata": {
        "execution": {
          "iopub.status.busy": "2024-02-06T09:42:34.926263Z",
          "iopub.execute_input": "2024-02-06T09:42:34.926891Z",
          "iopub.status.idle": "2024-02-06T09:42:34.933598Z",
          "shell.execute_reply.started": "2024-02-06T09:42:34.926856Z",
          "shell.execute_reply": "2024-02-06T09:42:34.932301Z"
        },
        "trusted": true,
        "id": "P95Gkxn-BDWh"
      },
      "execution_count": null,
      "outputs": []
    },
    {
      "cell_type": "markdown",
      "source": [
        "if we take a look at the data we will notice that the lables are saved in the first column, so we have to seperate them."
      ],
      "metadata": {
        "id": "W6fRmby3BDWh"
      }
    },
    {
      "cell_type": "code",
      "source": [
        "X_train = train_data.copy()\n",
        "X_test  = test_data.copy()\n",
        "y_train = X_train.pop('label')\n",
        "y_test  =  X_test.pop('label')"
      ],
      "metadata": {
        "execution": {
          "iopub.status.busy": "2024-02-06T09:42:34.93602Z",
          "iopub.execute_input": "2024-02-06T09:42:34.936416Z",
          "iopub.status.idle": "2024-02-06T09:42:35.11209Z",
          "shell.execute_reply.started": "2024-02-06T09:42:34.936384Z",
          "shell.execute_reply": "2024-02-06T09:42:35.11054Z"
        },
        "trusted": true,
        "id": "J3aJWq09BDWj"
      },
      "execution_count": null,
      "outputs": []
    },
    {
      "cell_type": "code",
      "source": [
        "print('X train shape :', X_train.shape)\n",
        "print('train label shape:', y_train.shape)\n",
        "print('X test shsape:', X_test.shape)\n",
        "print('test label shape', y_test.shape)\n"
      ],
      "metadata": {
        "execution": {
          "iopub.status.busy": "2024-02-06T09:42:35.114008Z",
          "iopub.execute_input": "2024-02-06T09:42:35.114393Z",
          "iopub.status.idle": "2024-02-06T09:42:35.122699Z",
          "shell.execute_reply.started": "2024-02-06T09:42:35.114364Z",
          "shell.execute_reply": "2024-02-06T09:42:35.121589Z"
        },
        "trusted": true,
        "id": "JyfHNyHnBDWk"
      },
      "execution_count": null,
      "outputs": []
    },
    {
      "cell_type": "markdown",
      "source": [
        "let's see how many samples we have from each sign."
      ],
      "metadata": {
        "id": "kGilOpfhBDWl"
      }
    },
    {
      "cell_type": "code",
      "source": [
        "plt.figure(figsize=(10,5))\n",
        "sns.barplot(x=y_train.value_counts().index, y=y_train.value_counts().values)"
      ],
      "metadata": {
        "execution": {
          "iopub.status.busy": "2024-02-06T09:42:35.124081Z",
          "iopub.execute_input": "2024-02-06T09:42:35.124521Z",
          "iopub.status.idle": "2024-02-06T09:42:35.571924Z",
          "shell.execute_reply.started": "2024-02-06T09:42:35.124485Z",
          "shell.execute_reply": "2024-02-06T09:42:35.57051Z"
        },
        "trusted": true,
        "id": "iZ1cBFB4BDWl"
      },
      "execution_count": null,
      "outputs": []
    },
    {
      "cell_type": "markdown",
      "source": [
        "it's fairly balanced data."
      ],
      "metadata": {
        "id": "Y26dI81nBDWm"
      }
    },
    {
      "cell_type": "markdown",
      "source": [
        "we should reshape our data to look like standard images\n",
        "(28*28)"
      ],
      "metadata": {
        "id": "eUrybpfpBDWm"
      }
    },
    {
      "cell_type": "code",
      "source": [
        "X_train = X_train.values.reshape(-1, 28, 28, 1)\n",
        "X_test  = X_test.values.reshape(-1, 28, 28, 1)"
      ],
      "metadata": {
        "execution": {
          "iopub.status.busy": "2024-02-06T09:42:35.574381Z",
          "iopub.execute_input": "2024-02-06T09:42:35.57487Z",
          "iopub.status.idle": "2024-02-06T09:42:35.676194Z",
          "shell.execute_reply.started": "2024-02-06T09:42:35.574826Z",
          "shell.execute_reply": "2024-02-06T09:42:35.674089Z"
        },
        "trusted": true,
        "id": "Rl_rmeC9BDWn"
      },
      "execution_count": null,
      "outputs": []
    },
    {
      "cell_type": "code",
      "source": [
        "X_train.shape"
      ],
      "metadata": {
        "execution": {
          "iopub.status.busy": "2024-02-06T09:42:35.842682Z",
          "iopub.execute_input": "2024-02-06T09:42:35.84318Z",
          "iopub.status.idle": "2024-02-06T09:42:35.850067Z",
          "shell.execute_reply.started": "2024-02-06T09:42:35.843147Z",
          "shell.execute_reply": "2024-02-06T09:42:35.849104Z"
        },
        "trusted": true,
        "id": "U65xbw6gBDWn"
      },
      "execution_count": null,
      "outputs": []
    },
    {
      "cell_type": "markdown",
      "source": [
        "let's visualize some samples!"
      ],
      "metadata": {
        "id": "kNmls16mBDWn"
      }
    },
    {
      "cell_type": "code",
      "source": [
        "#you can change image_number to see different images.(between 0 and 27454)\n",
        "image_number = 27000\n",
        "img = X_train[image_number, :, :]\n",
        "img = img.reshape((28,28))\n",
        "plt.imshow(img,cmap='gray')\n",
        "plt.title( y_train[image_number])\n",
        "plt.axis(\"off\")\n",
        "plt.show()"
      ],
      "metadata": {
        "execution": {
          "iopub.status.busy": "2024-02-06T09:42:37.611535Z",
          "iopub.execute_input": "2024-02-06T09:42:37.612028Z",
          "iopub.status.idle": "2024-02-06T09:42:37.734121Z",
          "shell.execute_reply.started": "2024-02-06T09:42:37.611988Z",
          "shell.execute_reply": "2024-02-06T09:42:37.732746Z"
        },
        "trusted": true,
        "id": "RBuXNyXoBDWo"
      },
      "execution_count": null,
      "outputs": []
    },
    {
      "cell_type": "markdown",
      "source": [
        "normalizing images and encoding labels."
      ],
      "metadata": {
        "id": "xLcTPqXgBDWo"
      }
    },
    {
      "cell_type": "code",
      "source": [
        "X_train = X_train / 255.0\n",
        "X_test  = X_test / 255.0\n",
        "X_train = X_train.reshape(-1,28,28,1)\n",
        "X_test = X_test.reshape(-1,28,28,1)"
      ],
      "metadata": {
        "execution": {
          "iopub.status.busy": "2024-02-06T09:42:42.233798Z",
          "iopub.execute_input": "2024-02-06T09:42:42.234271Z",
          "iopub.status.idle": "2024-02-06T09:42:42.337978Z",
          "shell.execute_reply.started": "2024-02-06T09:42:42.234234Z",
          "shell.execute_reply": "2024-02-06T09:42:42.33654Z"
        },
        "trusted": true,
        "id": "dFmKIU6_BDWp"
      },
      "execution_count": null,
      "outputs": []
    },
    {
      "cell_type": "code",
      "source": [
        "from keras.utils import to_categorical # convert to one-hot-encoding\n",
        "y_train = to_categorical(y_train, num_classes = 25)\n",
        "y_test  = to_categorical(y_test,  num_classes = 25)"
      ],
      "metadata": {
        "execution": {
          "iopub.status.busy": "2024-02-06T09:42:46.829898Z",
          "iopub.execute_input": "2024-02-06T09:42:46.830406Z",
          "iopub.status.idle": "2024-02-06T09:42:46.841308Z",
          "shell.execute_reply.started": "2024-02-06T09:42:46.830371Z",
          "shell.execute_reply": "2024-02-06T09:42:46.840112Z"
        },
        "trusted": true,
        "id": "1nNaktnqBDWp"
      },
      "execution_count": null,
      "outputs": []
    },
    {
      "cell_type": "markdown",
      "source": [
        "**defining the model.**"
      ],
      "metadata": {
        "id": "n1RhA1v8BDWp"
      }
    },
    {
      "cell_type": "code",
      "source": [
        "\n",
        "from tensorflow.keras.layers import Conv2D, Flatten, MaxPooling2D, Dense\n",
        "\n",
        "model = tf.keras.models.Sequential([\n",
        "    Conv2D(16, (3,3), activation = 'relu', input_shape=(28, 28, 1)),\n",
        "    MaxPooling2D(2,2),\n",
        "\n",
        "    Conv2D(32, (3,3), activation = 'relu'),\n",
        "    MaxPooling2D(2,2),\n",
        "\n",
        "    Conv2D(64, (3,3), activation = 'relu'),\n",
        "    MaxPooling2D(2,2),\n",
        "\n",
        "    Flatten(),\n",
        "    Dense(128, activation = 'relu'),\n",
        "    Dense(25,  activation = 'softmax')])"
      ],
      "metadata": {
        "execution": {
          "iopub.status.busy": "2024-02-06T09:42:49.6318Z",
          "iopub.execute_input": "2024-02-06T09:42:49.63227Z",
          "iopub.status.idle": "2024-02-06T09:42:49.743989Z",
          "shell.execute_reply.started": "2024-02-06T09:42:49.632226Z",
          "shell.execute_reply": "2024-02-06T09:42:49.742784Z"
        },
        "trusted": true,
        "id": "QmH5bkX0BDWp"
      },
      "execution_count": null,
      "outputs": []
    },
    {
      "cell_type": "code",
      "source": [
        "model.summary()"
      ],
      "metadata": {
        "execution": {
          "iopub.status.busy": "2024-02-06T09:42:50.973812Z",
          "iopub.execute_input": "2024-02-06T09:42:50.974849Z",
          "iopub.status.idle": "2024-02-06T09:42:51.016283Z",
          "shell.execute_reply.started": "2024-02-06T09:42:50.974802Z",
          "shell.execute_reply": "2024-02-06T09:42:51.015145Z"
        },
        "trusted": true,
        "id": "FfDAktFBBDWp"
      },
      "execution_count": null,
      "outputs": []
    },
    {
      "cell_type": "code",
      "source": [
        "optimizer = Adam(lr=0.001, beta_1=0.9, beta_2=0.999)\n",
        "\n",
        "model.compile(optimizer = optimizer , loss = \"categorical_crossentropy\", metrics=[\"accuracy\"])"
      ],
      "metadata": {
        "execution": {
          "iopub.status.busy": "2024-02-06T09:42:55.394793Z",
          "iopub.execute_input": "2024-02-06T09:42:55.395249Z",
          "iopub.status.idle": "2024-02-06T09:42:55.412578Z",
          "shell.execute_reply.started": "2024-02-06T09:42:55.395216Z",
          "shell.execute_reply": "2024-02-06T09:42:55.410897Z"
        },
        "trusted": true,
        "id": "CN7eEYFXBDWp"
      },
      "execution_count": null,
      "outputs": []
    },
    {
      "cell_type": "markdown",
      "source": [
        "Data Augmentation"
      ],
      "metadata": {
        "id": "gCbW7PB-BDWq"
      }
    },
    {
      "cell_type": "code",
      "source": [
        "datagen = ImageDataGenerator(\n",
        "        rotation_range=5,  # randomly rotate images in the range 5 degrees\n",
        "        zoom_range = 0.1, # Randomly zoom image 10%\n",
        "        width_shift_range=0.1,  # randomly shift images horizontally 10%\n",
        "        height_shift_range=0.1)  # randomly shift images vertically 10%\n",
        "\n",
        "datagen.fit(X_train)"
      ],
      "metadata": {
        "execution": {
          "iopub.status.busy": "2024-02-06T09:43:01.371433Z",
          "iopub.execute_input": "2024-02-06T09:43:01.371955Z",
          "iopub.status.idle": "2024-02-06T09:43:01.451291Z",
          "shell.execute_reply.started": "2024-02-06T09:43:01.371913Z",
          "shell.execute_reply": "2024-02-06T09:43:01.449821Z"
        },
        "trusted": true,
        "id": "QkWO8JPoBDWq"
      },
      "execution_count": null,
      "outputs": []
    },
    {
      "cell_type": "code",
      "source": [
        "# Fit the model\n",
        "epochs = 20\n",
        "batch_size = 250\n",
        "history = model.fit(datagen.flow(X_train,y_train, batch_size=batch_size),\n",
        "                              epochs = epochs, validation_data = (X_test,y_test), steps_per_epoch=X_train.shape[0] // batch_size)"
      ],
      "metadata": {
        "execution": {
          "iopub.status.busy": "2024-02-06T09:43:04.342157Z",
          "iopub.execute_input": "2024-02-06T09:43:04.342612Z",
          "iopub.status.idle": "2024-02-06T09:48:54.670458Z",
          "shell.execute_reply.started": "2024-02-06T09:43:04.34257Z",
          "shell.execute_reply": "2024-02-06T09:48:54.669263Z"
        },
        "trusted": true,
        "id": "POjzcHzZBDWr"
      },
      "execution_count": null,
      "outputs": []
    },
    {
      "cell_type": "code",
      "source": [
        "history.history.keys()"
      ],
      "metadata": {
        "execution": {
          "iopub.status.busy": "2024-02-06T09:48:54.672899Z",
          "iopub.execute_input": "2024-02-06T09:48:54.673237Z",
          "iopub.status.idle": "2024-02-06T09:48:54.680627Z",
          "shell.execute_reply.started": "2024-02-06T09:48:54.673209Z",
          "shell.execute_reply": "2024-02-06T09:48:54.679355Z"
        },
        "trusted": true,
        "id": "zX9h3iA3BDWs"
      },
      "execution_count": null,
      "outputs": []
    },
    {
      "cell_type": "code",
      "source": [
        "plt.subplots(figsize=(10, 5))\n",
        "\n",
        "plt.subplot(1, 2, 1)\n",
        "plt.plot(history.history['val_loss'], color='b', label=\"validation loss\")\n",
        "plt.plot(history.history['loss'], color='r', label=\"train loss\")\n",
        "plt.legend()\n",
        "\n",
        "plt.subplot(1, 2, 2)\n",
        "plt.plot(history.history['accuracy'], color='b', label=\"accuracy\")\n",
        "plt.plot(history.history['val_accuracy'], color='r', label=\"val_accuracy\")\n",
        "plt.legend()"
      ],
      "metadata": {
        "execution": {
          "iopub.status.busy": "2024-02-06T09:48:54.682324Z",
          "iopub.execute_input": "2024-02-06T09:48:54.682709Z",
          "iopub.status.idle": "2024-02-06T09:48:55.212318Z",
          "shell.execute_reply.started": "2024-02-06T09:48:54.682659Z",
          "shell.execute_reply": "2024-02-06T09:48:55.210922Z"
        },
        "trusted": true,
        "id": "7oEmeLBNBDWs"
      },
      "execution_count": null,
      "outputs": []
    },
    {
      "cell_type": "markdown",
      "source": [
        "seems it's getting better and better and we don't have any obvious overfitting, so let's train another 10 epochs:"
      ],
      "metadata": {
        "id": "HYfZ21mUBDWt"
      }
    },
    {
      "cell_type": "code",
      "source": [
        "history2 = model.fit(datagen.flow(X_train,y_train, batch_size=batch_size),\n",
        "                              epochs = 10, validation_data = (X_test,y_test), steps_per_epoch=X_train.shape[0] // batch_size)"
      ],
      "metadata": {
        "execution": {
          "iopub.status.busy": "2024-02-06T10:07:22.099929Z",
          "iopub.execute_input": "2024-02-06T10:07:22.101269Z",
          "iopub.status.idle": "2024-02-06T10:10:23.659312Z",
          "shell.execute_reply.started": "2024-02-06T10:07:22.101206Z",
          "shell.execute_reply": "2024-02-06T10:10:23.657792Z"
        },
        "trusted": true,
        "id": "Eb6_GanWBDWt"
      },
      "execution_count": null,
      "outputs": []
    },
    {
      "cell_type": "code",
      "source": [
        "plt.subplots(figsize=(10, 5))\n",
        "\n",
        "plt.subplot(1, 2, 1)\n",
        "plt.plot(history2.history['val_loss'], color='b', label=\"validation loss\")\n",
        "plt.plot(history2.history['loss'], color='r', label=\"train loss\")\n",
        "plt.legend()\n",
        "\n",
        "plt.subplot(1, 2, 2)\n",
        "plt.plot(history2.history['accuracy'], color='b', label=\"accuracy\")\n",
        "plt.plot(history2.history['val_accuracy'], color='r', label=\"val_accuracy\")\n",
        "plt.legend()"
      ],
      "metadata": {
        "execution": {
          "iopub.status.busy": "2024-02-06T10:10:34.016262Z",
          "iopub.execute_input": "2024-02-06T10:10:34.018096Z",
          "iopub.status.idle": "2024-02-06T10:10:34.591885Z",
          "shell.execute_reply.started": "2024-02-06T10:10:34.018029Z",
          "shell.execute_reply": "2024-02-06T10:10:34.590392Z"
        },
        "trusted": true,
        "id": "Ad8dWn5xBDWt"
      },
      "execution_count": null,
      "outputs": []
    },
    {
      "cell_type": "markdown",
      "source": [
        "still no problem, so let's give it another try!"
      ],
      "metadata": {
        "id": "LeChbdY_BDWu"
      }
    },
    {
      "cell_type": "code",
      "source": [
        "history3 = model.fit(datagen.flow(X_train,y_train, batch_size=batch_size),\n",
        "                              epochs = 10, validation_data = (X_test,y_test), steps_per_epoch=X_train.shape[0] // batch_size)"
      ],
      "metadata": {
        "execution": {
          "iopub.status.busy": "2024-02-06T10:10:44.250283Z",
          "iopub.execute_input": "2024-02-06T10:10:44.250816Z",
          "iopub.status.idle": "2024-02-06T10:13:25.661452Z",
          "shell.execute_reply.started": "2024-02-06T10:10:44.250774Z",
          "shell.execute_reply": "2024-02-06T10:13:25.660149Z"
        },
        "trusted": true,
        "id": "iG3fHlTeBDWu"
      },
      "execution_count": null,
      "outputs": []
    },
    {
      "cell_type": "code",
      "source": [
        "plt.subplots(figsize=(10, 5))\n",
        "\n",
        "plt.subplot(1, 2, 1)\n",
        "plt.plot(history3.history['val_loss'], color='b', label=\"validation loss\")\n",
        "plt.plot(history3.history['loss'], color='r', label=\"train loss\")\n",
        "plt.legend()\n",
        "\n",
        "plt.subplot(1, 2, 2)\n",
        "plt.plot(history3.history['accuracy'], color='b', label=\"accuracy\")\n",
        "plt.plot(history3.history['val_accuracy'], color='r', label=\"val_accuracy\")\n",
        "plt.legend()"
      ],
      "metadata": {
        "execution": {
          "iopub.status.busy": "2024-02-06T10:13:32.532133Z",
          "iopub.execute_input": "2024-02-06T10:13:32.532609Z",
          "iopub.status.idle": "2024-02-06T10:13:33.062112Z",
          "shell.execute_reply.started": "2024-02-06T10:13:32.532574Z",
          "shell.execute_reply": "2024-02-06T10:13:33.06067Z"
        },
        "trusted": true,
        "id": "Q0VZVVB8BDWu"
      },
      "execution_count": null,
      "outputs": []
    },
    {
      "cell_type": "markdown",
      "source": [
        "strangely our net has always been working better on test than training(maybe it's because our test set is easier to classify, so it's better next time mix them and shuffle), but anyway we got a good result here and it could have performed even better  if we'd let it train longer. although we didn't use any regularization algorithm(like l2 or dropout) but our net didn't show any overfitting problem.\n"
      ],
      "metadata": {
        "id": "GXVkthIyBDWv"
      }
    },
    {
      "cell_type": "code",
      "source": [
        "overal_history = {}\n",
        "for k in history.history.keys():\n",
        "    overal_history[k] = history.history[k] + history2.history[k] + history3.history[k]"
      ],
      "metadata": {
        "execution": {
          "iopub.status.busy": "2024-02-06T10:24:55.309471Z",
          "iopub.execute_input": "2024-02-06T10:24:55.310016Z",
          "iopub.status.idle": "2024-02-06T10:24:55.317555Z",
          "shell.execute_reply.started": "2024-02-06T10:24:55.309972Z",
          "shell.execute_reply": "2024-02-06T10:24:55.316031Z"
        },
        "trusted": true,
        "id": "KdZXGKLXBDWv"
      },
      "execution_count": null,
      "outputs": []
    },
    {
      "cell_type": "code",
      "source": [
        "plt.subplots(figsize=(20, 5))\n",
        "\n",
        "plt.subplot(1, 2, 1)\n",
        "plt.plot(overal_history['val_loss'], color='b', label=\"validation loss\")\n",
        "plt.plot(overal_history['loss'], color='r', label=\"train loss\")\n",
        "plt.legend()\n",
        "\n",
        "plt.subplot(1, 2, 2)\n",
        "plt.plot(overal_history['accuracy'], color='b', label=\"accuracy\")\n",
        "plt.plot(overal_history['val_accuracy'], color='r', label=\"val_accuracy\")\n",
        "plt.legend()"
      ],
      "metadata": {
        "execution": {
          "iopub.status.busy": "2024-02-06T10:26:28.793725Z",
          "iopub.execute_input": "2024-02-06T10:26:28.795135Z",
          "iopub.status.idle": "2024-02-06T10:26:29.418113Z",
          "shell.execute_reply.started": "2024-02-06T10:26:28.795088Z",
          "shell.execute_reply": "2024-02-06T10:26:29.416889Z"
        },
        "trusted": true,
        "id": "LwGszSq4BDWv"
      },
      "execution_count": null,
      "outputs": []
    },
    {
      "cell_type": "code",
      "source": [],
      "metadata": {
        "id": "Wduo7lLvBDWv"
      },
      "execution_count": null,
      "outputs": []
    }
  ]
}